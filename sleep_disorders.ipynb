{
 "cells": [
  {
   "cell_type": "code",
   "execution_count": 18,
   "metadata": {},
   "outputs": [],
   "source": [
    "import numpy as np \n",
    "import pandas as pd \n",
    "import matplotlib.pyplot as plt \n",
    "import seaborn as sns\n",
    "sns.set()"
   ]
  },
  {
   "cell_type": "code",
   "execution_count": 19,
   "metadata": {},
   "outputs": [
    {
     "data": {
      "text/html": [
       "<div>\n",
       "<style scoped>\n",
       "    .dataframe tbody tr th:only-of-type {\n",
       "        vertical-align: middle;\n",
       "    }\n",
       "\n",
       "    .dataframe tbody tr th {\n",
       "        vertical-align: top;\n",
       "    }\n",
       "\n",
       "    .dataframe thead th {\n",
       "        text-align: right;\n",
       "    }\n",
       "</style>\n",
       "<table border=\"1\" class=\"dataframe\">\n",
       "  <thead>\n",
       "    <tr style=\"text-align: right;\">\n",
       "      <th></th>\n",
       "      <th>Person ID</th>\n",
       "      <th>Gender</th>\n",
       "      <th>Age</th>\n",
       "      <th>Occupation</th>\n",
       "      <th>Sleep Duration</th>\n",
       "      <th>Quality of Sleep</th>\n",
       "      <th>Physical Activity Level</th>\n",
       "      <th>Stress Level</th>\n",
       "      <th>BMI Category</th>\n",
       "      <th>Blood Pressure</th>\n",
       "      <th>Heart Rate</th>\n",
       "      <th>Daily Steps</th>\n",
       "      <th>Sleep Disorder</th>\n",
       "    </tr>\n",
       "  </thead>\n",
       "  <tbody>\n",
       "    <tr>\n",
       "      <th>0</th>\n",
       "      <td>1</td>\n",
       "      <td>Male</td>\n",
       "      <td>27</td>\n",
       "      <td>Software Engineer</td>\n",
       "      <td>6.1</td>\n",
       "      <td>6</td>\n",
       "      <td>42</td>\n",
       "      <td>6</td>\n",
       "      <td>Overweight</td>\n",
       "      <td>126/83</td>\n",
       "      <td>77</td>\n",
       "      <td>4200</td>\n",
       "      <td>NaN</td>\n",
       "    </tr>\n",
       "    <tr>\n",
       "      <th>1</th>\n",
       "      <td>2</td>\n",
       "      <td>Male</td>\n",
       "      <td>28</td>\n",
       "      <td>Doctor</td>\n",
       "      <td>6.2</td>\n",
       "      <td>6</td>\n",
       "      <td>60</td>\n",
       "      <td>8</td>\n",
       "      <td>Normal</td>\n",
       "      <td>125/80</td>\n",
       "      <td>75</td>\n",
       "      <td>10000</td>\n",
       "      <td>NaN</td>\n",
       "    </tr>\n",
       "    <tr>\n",
       "      <th>2</th>\n",
       "      <td>3</td>\n",
       "      <td>Male</td>\n",
       "      <td>28</td>\n",
       "      <td>Doctor</td>\n",
       "      <td>6.2</td>\n",
       "      <td>6</td>\n",
       "      <td>60</td>\n",
       "      <td>8</td>\n",
       "      <td>Normal</td>\n",
       "      <td>125/80</td>\n",
       "      <td>75</td>\n",
       "      <td>10000</td>\n",
       "      <td>NaN</td>\n",
       "    </tr>\n",
       "    <tr>\n",
       "      <th>3</th>\n",
       "      <td>4</td>\n",
       "      <td>Male</td>\n",
       "      <td>28</td>\n",
       "      <td>Sales Representative</td>\n",
       "      <td>5.9</td>\n",
       "      <td>4</td>\n",
       "      <td>30</td>\n",
       "      <td>8</td>\n",
       "      <td>Obese</td>\n",
       "      <td>140/90</td>\n",
       "      <td>85</td>\n",
       "      <td>3000</td>\n",
       "      <td>Sleep Apnea</td>\n",
       "    </tr>\n",
       "    <tr>\n",
       "      <th>4</th>\n",
       "      <td>5</td>\n",
       "      <td>Male</td>\n",
       "      <td>28</td>\n",
       "      <td>Sales Representative</td>\n",
       "      <td>5.9</td>\n",
       "      <td>4</td>\n",
       "      <td>30</td>\n",
       "      <td>8</td>\n",
       "      <td>Obese</td>\n",
       "      <td>140/90</td>\n",
       "      <td>85</td>\n",
       "      <td>3000</td>\n",
       "      <td>Sleep Apnea</td>\n",
       "    </tr>\n",
       "  </tbody>\n",
       "</table>\n",
       "</div>"
      ],
      "text/plain": [
       "   Person ID Gender  Age            Occupation  Sleep Duration  \\\n",
       "0          1   Male   27     Software Engineer             6.1   \n",
       "1          2   Male   28                Doctor             6.2   \n",
       "2          3   Male   28                Doctor             6.2   \n",
       "3          4   Male   28  Sales Representative             5.9   \n",
       "4          5   Male   28  Sales Representative             5.9   \n",
       "\n",
       "   Quality of Sleep  Physical Activity Level  Stress Level BMI Category  \\\n",
       "0                 6                       42             6   Overweight   \n",
       "1                 6                       60             8       Normal   \n",
       "2                 6                       60             8       Normal   \n",
       "3                 4                       30             8        Obese   \n",
       "4                 4                       30             8        Obese   \n",
       "\n",
       "  Blood Pressure  Heart Rate  Daily Steps Sleep Disorder  \n",
       "0         126/83          77         4200            NaN  \n",
       "1         125/80          75        10000            NaN  \n",
       "2         125/80          75        10000            NaN  \n",
       "3         140/90          85         3000    Sleep Apnea  \n",
       "4         140/90          85         3000    Sleep Apnea  "
      ]
     },
     "execution_count": 19,
     "metadata": {},
     "output_type": "execute_result"
    }
   ],
   "source": [
    "data = pd.read_csv('Sleep_health_dataset.csv')\n",
    "data.head()"
   ]
  },
  {
   "cell_type": "code",
   "execution_count": 20,
   "metadata": {},
   "outputs": [
    {
     "name": "stdout",
     "output_type": "stream",
     "text": [
      "<class 'pandas.core.frame.DataFrame'>\n",
      "RangeIndex: 374 entries, 0 to 373\n",
      "Data columns (total 13 columns):\n",
      " #   Column                   Non-Null Count  Dtype  \n",
      "---  ------                   --------------  -----  \n",
      " 0   Person ID                374 non-null    int64  \n",
      " 1   Gender                   374 non-null    object \n",
      " 2   Age                      374 non-null    int64  \n",
      " 3   Occupation               374 non-null    object \n",
      " 4   Sleep Duration           374 non-null    float64\n",
      " 5   Quality of Sleep         374 non-null    int64  \n",
      " 6   Physical Activity Level  374 non-null    int64  \n",
      " 7   Stress Level             374 non-null    int64  \n",
      " 8   BMI Category             374 non-null    object \n",
      " 9   Blood Pressure           374 non-null    object \n",
      " 10  Heart Rate               374 non-null    int64  \n",
      " 11  Daily Steps              374 non-null    int64  \n",
      " 12  Sleep Disorder           155 non-null    object \n",
      "dtypes: float64(1), int64(7), object(5)\n",
      "memory usage: 38.1+ KB\n"
     ]
    }
   ],
   "source": [
    "data.info()"
   ]
  },
  {
   "cell_type": "markdown",
   "metadata": {},
   "source": [
    "Gender, Occupation, BMI category, Blood Pressure, Sleep Disorder are non-integer features. These need to be converted or encoded."
   ]
  },
  {
   "cell_type": "code",
   "execution_count": 21,
   "metadata": {},
   "outputs": [
    {
     "data": {
      "text/html": [
       "<div>\n",
       "<style scoped>\n",
       "    .dataframe tbody tr th:only-of-type {\n",
       "        vertical-align: middle;\n",
       "    }\n",
       "\n",
       "    .dataframe tbody tr th {\n",
       "        vertical-align: top;\n",
       "    }\n",
       "\n",
       "    .dataframe thead th {\n",
       "        text-align: right;\n",
       "    }\n",
       "</style>\n",
       "<table border=\"1\" class=\"dataframe\">\n",
       "  <thead>\n",
       "    <tr style=\"text-align: right;\">\n",
       "      <th></th>\n",
       "      <th>Gender</th>\n",
       "      <th>Age</th>\n",
       "      <th>Occupation</th>\n",
       "      <th>Sleep Duration</th>\n",
       "      <th>Quality of Sleep</th>\n",
       "      <th>Physical Activity Level</th>\n",
       "      <th>Stress Level</th>\n",
       "      <th>BMI Category</th>\n",
       "      <th>Blood Pressure</th>\n",
       "      <th>Heart Rate</th>\n",
       "      <th>Daily Steps</th>\n",
       "      <th>Sleep Disorder</th>\n",
       "    </tr>\n",
       "  </thead>\n",
       "  <tbody>\n",
       "    <tr>\n",
       "      <th>0</th>\n",
       "      <td>Male</td>\n",
       "      <td>27</td>\n",
       "      <td>Software Engineer</td>\n",
       "      <td>6.1</td>\n",
       "      <td>6</td>\n",
       "      <td>42</td>\n",
       "      <td>6</td>\n",
       "      <td>Overweight</td>\n",
       "      <td>126/83</td>\n",
       "      <td>77</td>\n",
       "      <td>4200</td>\n",
       "      <td>NaN</td>\n",
       "    </tr>\n",
       "    <tr>\n",
       "      <th>1</th>\n",
       "      <td>Male</td>\n",
       "      <td>28</td>\n",
       "      <td>Doctor</td>\n",
       "      <td>6.2</td>\n",
       "      <td>6</td>\n",
       "      <td>60</td>\n",
       "      <td>8</td>\n",
       "      <td>Normal</td>\n",
       "      <td>125/80</td>\n",
       "      <td>75</td>\n",
       "      <td>10000</td>\n",
       "      <td>NaN</td>\n",
       "    </tr>\n",
       "    <tr>\n",
       "      <th>2</th>\n",
       "      <td>Male</td>\n",
       "      <td>28</td>\n",
       "      <td>Doctor</td>\n",
       "      <td>6.2</td>\n",
       "      <td>6</td>\n",
       "      <td>60</td>\n",
       "      <td>8</td>\n",
       "      <td>Normal</td>\n",
       "      <td>125/80</td>\n",
       "      <td>75</td>\n",
       "      <td>10000</td>\n",
       "      <td>NaN</td>\n",
       "    </tr>\n",
       "    <tr>\n",
       "      <th>3</th>\n",
       "      <td>Male</td>\n",
       "      <td>28</td>\n",
       "      <td>Sales Representative</td>\n",
       "      <td>5.9</td>\n",
       "      <td>4</td>\n",
       "      <td>30</td>\n",
       "      <td>8</td>\n",
       "      <td>Obese</td>\n",
       "      <td>140/90</td>\n",
       "      <td>85</td>\n",
       "      <td>3000</td>\n",
       "      <td>Sleep Apnea</td>\n",
       "    </tr>\n",
       "    <tr>\n",
       "      <th>4</th>\n",
       "      <td>Male</td>\n",
       "      <td>28</td>\n",
       "      <td>Sales Representative</td>\n",
       "      <td>5.9</td>\n",
       "      <td>4</td>\n",
       "      <td>30</td>\n",
       "      <td>8</td>\n",
       "      <td>Obese</td>\n",
       "      <td>140/90</td>\n",
       "      <td>85</td>\n",
       "      <td>3000</td>\n",
       "      <td>Sleep Apnea</td>\n",
       "    </tr>\n",
       "    <tr>\n",
       "      <th>...</th>\n",
       "      <td>...</td>\n",
       "      <td>...</td>\n",
       "      <td>...</td>\n",
       "      <td>...</td>\n",
       "      <td>...</td>\n",
       "      <td>...</td>\n",
       "      <td>...</td>\n",
       "      <td>...</td>\n",
       "      <td>...</td>\n",
       "      <td>...</td>\n",
       "      <td>...</td>\n",
       "      <td>...</td>\n",
       "    </tr>\n",
       "    <tr>\n",
       "      <th>369</th>\n",
       "      <td>Female</td>\n",
       "      <td>59</td>\n",
       "      <td>Nurse</td>\n",
       "      <td>8.1</td>\n",
       "      <td>9</td>\n",
       "      <td>75</td>\n",
       "      <td>3</td>\n",
       "      <td>Overweight</td>\n",
       "      <td>140/95</td>\n",
       "      <td>68</td>\n",
       "      <td>7000</td>\n",
       "      <td>Sleep Apnea</td>\n",
       "    </tr>\n",
       "    <tr>\n",
       "      <th>370</th>\n",
       "      <td>Female</td>\n",
       "      <td>59</td>\n",
       "      <td>Nurse</td>\n",
       "      <td>8.0</td>\n",
       "      <td>9</td>\n",
       "      <td>75</td>\n",
       "      <td>3</td>\n",
       "      <td>Overweight</td>\n",
       "      <td>140/95</td>\n",
       "      <td>68</td>\n",
       "      <td>7000</td>\n",
       "      <td>Sleep Apnea</td>\n",
       "    </tr>\n",
       "    <tr>\n",
       "      <th>371</th>\n",
       "      <td>Female</td>\n",
       "      <td>59</td>\n",
       "      <td>Nurse</td>\n",
       "      <td>8.1</td>\n",
       "      <td>9</td>\n",
       "      <td>75</td>\n",
       "      <td>3</td>\n",
       "      <td>Overweight</td>\n",
       "      <td>140/95</td>\n",
       "      <td>68</td>\n",
       "      <td>7000</td>\n",
       "      <td>Sleep Apnea</td>\n",
       "    </tr>\n",
       "    <tr>\n",
       "      <th>372</th>\n",
       "      <td>Female</td>\n",
       "      <td>59</td>\n",
       "      <td>Nurse</td>\n",
       "      <td>8.1</td>\n",
       "      <td>9</td>\n",
       "      <td>75</td>\n",
       "      <td>3</td>\n",
       "      <td>Overweight</td>\n",
       "      <td>140/95</td>\n",
       "      <td>68</td>\n",
       "      <td>7000</td>\n",
       "      <td>Sleep Apnea</td>\n",
       "    </tr>\n",
       "    <tr>\n",
       "      <th>373</th>\n",
       "      <td>Female</td>\n",
       "      <td>59</td>\n",
       "      <td>Nurse</td>\n",
       "      <td>8.1</td>\n",
       "      <td>9</td>\n",
       "      <td>75</td>\n",
       "      <td>3</td>\n",
       "      <td>Overweight</td>\n",
       "      <td>140/95</td>\n",
       "      <td>68</td>\n",
       "      <td>7000</td>\n",
       "      <td>Sleep Apnea</td>\n",
       "    </tr>\n",
       "  </tbody>\n",
       "</table>\n",
       "<p>374 rows × 12 columns</p>\n",
       "</div>"
      ],
      "text/plain": [
       "     Gender  Age            Occupation  Sleep Duration  Quality of Sleep  \\\n",
       "0      Male   27     Software Engineer             6.1                 6   \n",
       "1      Male   28                Doctor             6.2                 6   \n",
       "2      Male   28                Doctor             6.2                 6   \n",
       "3      Male   28  Sales Representative             5.9                 4   \n",
       "4      Male   28  Sales Representative             5.9                 4   \n",
       "..      ...  ...                   ...             ...               ...   \n",
       "369  Female   59                 Nurse             8.1                 9   \n",
       "370  Female   59                 Nurse             8.0                 9   \n",
       "371  Female   59                 Nurse             8.1                 9   \n",
       "372  Female   59                 Nurse             8.1                 9   \n",
       "373  Female   59                 Nurse             8.1                 9   \n",
       "\n",
       "     Physical Activity Level  Stress Level BMI Category Blood Pressure  \\\n",
       "0                         42             6   Overweight         126/83   \n",
       "1                         60             8       Normal         125/80   \n",
       "2                         60             8       Normal         125/80   \n",
       "3                         30             8        Obese         140/90   \n",
       "4                         30             8        Obese         140/90   \n",
       "..                       ...           ...          ...            ...   \n",
       "369                       75             3   Overweight         140/95   \n",
       "370                       75             3   Overweight         140/95   \n",
       "371                       75             3   Overweight         140/95   \n",
       "372                       75             3   Overweight         140/95   \n",
       "373                       75             3   Overweight         140/95   \n",
       "\n",
       "     Heart Rate  Daily Steps Sleep Disorder  \n",
       "0            77         4200            NaN  \n",
       "1            75        10000            NaN  \n",
       "2            75        10000            NaN  \n",
       "3            85         3000    Sleep Apnea  \n",
       "4            85         3000    Sleep Apnea  \n",
       "..          ...          ...            ...  \n",
       "369          68         7000    Sleep Apnea  \n",
       "370          68         7000    Sleep Apnea  \n",
       "371          68         7000    Sleep Apnea  \n",
       "372          68         7000    Sleep Apnea  \n",
       "373          68         7000    Sleep Apnea  \n",
       "\n",
       "[374 rows x 12 columns]"
      ]
     },
     "execution_count": 21,
     "metadata": {},
     "output_type": "execute_result"
    }
   ],
   "source": [
    "df = data.drop('Person ID', axis=1)\n",
    "df"
   ]
  },
  {
   "cell_type": "code",
   "execution_count": 22,
   "metadata": {},
   "outputs": [],
   "source": [
    "df['Sleep Disorder'] = df['Sleep Disorder'].fillna('None')"
   ]
  },
  {
   "cell_type": "code",
   "execution_count": 23,
   "metadata": {},
   "outputs": [
    {
     "data": {
      "text/plain": [
       "array(['None', 'Sleep Apnea', 'Insomnia'], dtype=object)"
      ]
     },
     "execution_count": 23,
     "metadata": {},
     "output_type": "execute_result"
    }
   ],
   "source": [
    "df['Sleep Disorder'].unique()"
   ]
  },
  {
   "cell_type": "code",
   "execution_count": 24,
   "metadata": {},
   "outputs": [
    {
     "data": {
      "text/plain": [
       "array(['Male', 'Female'], dtype=object)"
      ]
     },
     "execution_count": 24,
     "metadata": {},
     "output_type": "execute_result"
    }
   ],
   "source": [
    "df['Gender'].unique()"
   ]
  },
  {
   "cell_type": "code",
   "execution_count": 25,
   "metadata": {},
   "outputs": [
    {
     "data": {
      "text/plain": [
       "array(['Software Engineer', 'Doctor', 'Sales Representative', 'Teacher',\n",
       "       'Nurse', 'Engineer', 'Accountant', 'Scientist', 'Lawyer',\n",
       "       'Salesperson', 'Manager'], dtype=object)"
      ]
     },
     "execution_count": 25,
     "metadata": {},
     "output_type": "execute_result"
    }
   ],
   "source": [
    "df['Occupation'].unique()"
   ]
  },
  {
   "cell_type": "code",
   "execution_count": 26,
   "metadata": {},
   "outputs": [
    {
     "data": {
      "text/plain": [
       "array(['Overweight', 'Normal', 'Obese', 'Normal Weight'], dtype=object)"
      ]
     },
     "execution_count": 26,
     "metadata": {},
     "output_type": "execute_result"
    }
   ],
   "source": [
    "df['BMI Category'].unique()"
   ]
  },
  {
   "cell_type": "markdown",
   "metadata": {},
   "source": [
    "normal and normal weight are the same. so these can be merged."
   ]
  },
  {
   "cell_type": "code",
   "execution_count": 27,
   "metadata": {},
   "outputs": [],
   "source": [
    "to_combine = ['Normal', 'Normal Weight']\n",
    "df['BMI Category'] = df['BMI Category'].replace(to_combine, 'Normal')"
   ]
  },
  {
   "cell_type": "code",
   "execution_count": 28,
   "metadata": {},
   "outputs": [
    {
     "data": {
      "text/plain": [
       "array(['Overweight', 'Normal', 'Obese'], dtype=object)"
      ]
     },
     "execution_count": 28,
     "metadata": {},
     "output_type": "execute_result"
    }
   ],
   "source": [
    "df['BMI Category'].unique()"
   ]
  },
  {
   "cell_type": "markdown",
   "metadata": {},
   "source": [
    "Blood Pressure needs to be split into upper and lower values. These are non-integer features, so, convert them to integers."
   ]
  },
  {
   "cell_type": "code",
   "execution_count": 29,
   "metadata": {},
   "outputs": [
    {
     "data": {
      "text/html": [
       "<div>\n",
       "<style scoped>\n",
       "    .dataframe tbody tr th:only-of-type {\n",
       "        vertical-align: middle;\n",
       "    }\n",
       "\n",
       "    .dataframe tbody tr th {\n",
       "        vertical-align: top;\n",
       "    }\n",
       "\n",
       "    .dataframe thead th {\n",
       "        text-align: right;\n",
       "    }\n",
       "</style>\n",
       "<table border=\"1\" class=\"dataframe\">\n",
       "  <thead>\n",
       "    <tr style=\"text-align: right;\">\n",
       "      <th></th>\n",
       "      <th>Gender</th>\n",
       "      <th>Age</th>\n",
       "      <th>Occupation</th>\n",
       "      <th>Sleep Duration</th>\n",
       "      <th>Quality of Sleep</th>\n",
       "      <th>Physical Activity Level</th>\n",
       "      <th>Stress Level</th>\n",
       "      <th>BMI Category</th>\n",
       "      <th>Heart Rate</th>\n",
       "      <th>Daily Steps</th>\n",
       "      <th>Sleep Disorder</th>\n",
       "      <th>0</th>\n",
       "      <th>1</th>\n",
       "    </tr>\n",
       "  </thead>\n",
       "  <tbody>\n",
       "    <tr>\n",
       "      <th>0</th>\n",
       "      <td>Male</td>\n",
       "      <td>27</td>\n",
       "      <td>Software Engineer</td>\n",
       "      <td>6.1</td>\n",
       "      <td>6</td>\n",
       "      <td>42</td>\n",
       "      <td>6</td>\n",
       "      <td>Overweight</td>\n",
       "      <td>77</td>\n",
       "      <td>4200</td>\n",
       "      <td>None</td>\n",
       "      <td>126</td>\n",
       "      <td>83</td>\n",
       "    </tr>\n",
       "    <tr>\n",
       "      <th>1</th>\n",
       "      <td>Male</td>\n",
       "      <td>28</td>\n",
       "      <td>Doctor</td>\n",
       "      <td>6.2</td>\n",
       "      <td>6</td>\n",
       "      <td>60</td>\n",
       "      <td>8</td>\n",
       "      <td>Normal</td>\n",
       "      <td>75</td>\n",
       "      <td>10000</td>\n",
       "      <td>None</td>\n",
       "      <td>125</td>\n",
       "      <td>80</td>\n",
       "    </tr>\n",
       "    <tr>\n",
       "      <th>2</th>\n",
       "      <td>Male</td>\n",
       "      <td>28</td>\n",
       "      <td>Doctor</td>\n",
       "      <td>6.2</td>\n",
       "      <td>6</td>\n",
       "      <td>60</td>\n",
       "      <td>8</td>\n",
       "      <td>Normal</td>\n",
       "      <td>75</td>\n",
       "      <td>10000</td>\n",
       "      <td>None</td>\n",
       "      <td>125</td>\n",
       "      <td>80</td>\n",
       "    </tr>\n",
       "    <tr>\n",
       "      <th>3</th>\n",
       "      <td>Male</td>\n",
       "      <td>28</td>\n",
       "      <td>Sales Representative</td>\n",
       "      <td>5.9</td>\n",
       "      <td>4</td>\n",
       "      <td>30</td>\n",
       "      <td>8</td>\n",
       "      <td>Obese</td>\n",
       "      <td>85</td>\n",
       "      <td>3000</td>\n",
       "      <td>Sleep Apnea</td>\n",
       "      <td>140</td>\n",
       "      <td>90</td>\n",
       "    </tr>\n",
       "    <tr>\n",
       "      <th>4</th>\n",
       "      <td>Male</td>\n",
       "      <td>28</td>\n",
       "      <td>Sales Representative</td>\n",
       "      <td>5.9</td>\n",
       "      <td>4</td>\n",
       "      <td>30</td>\n",
       "      <td>8</td>\n",
       "      <td>Obese</td>\n",
       "      <td>85</td>\n",
       "      <td>3000</td>\n",
       "      <td>Sleep Apnea</td>\n",
       "      <td>140</td>\n",
       "      <td>90</td>\n",
       "    </tr>\n",
       "  </tbody>\n",
       "</table>\n",
       "</div>"
      ],
      "text/plain": [
       "  Gender  Age            Occupation  Sleep Duration  Quality of Sleep  \\\n",
       "0   Male   27     Software Engineer             6.1                 6   \n",
       "1   Male   28                Doctor             6.2                 6   \n",
       "2   Male   28                Doctor             6.2                 6   \n",
       "3   Male   28  Sales Representative             5.9                 4   \n",
       "4   Male   28  Sales Representative             5.9                 4   \n",
       "\n",
       "   Physical Activity Level  Stress Level BMI Category  Heart Rate  \\\n",
       "0                       42             6   Overweight          77   \n",
       "1                       60             8       Normal          75   \n",
       "2                       60             8       Normal          75   \n",
       "3                       30             8        Obese          85   \n",
       "4                       30             8        Obese          85   \n",
       "\n",
       "   Daily Steps Sleep Disorder    0   1  \n",
       "0         4200           None  126  83  \n",
       "1        10000           None  125  80  \n",
       "2        10000           None  125  80  \n",
       "3         3000    Sleep Apnea  140  90  \n",
       "4         3000    Sleep Apnea  140  90  "
      ]
     },
     "execution_count": 29,
     "metadata": {},
     "output_type": "execute_result"
    }
   ],
   "source": [
    "df = pd.concat([df, df['Blood Pressure'].str.split('/', expand=True)], axis=1).drop('Blood Pressure', axis=1)\n",
    "df.head()"
   ]
  },
  {
   "cell_type": "code",
   "execution_count": 30,
   "metadata": {},
   "outputs": [
    {
     "data": {
      "text/html": [
       "<div>\n",
       "<style scoped>\n",
       "    .dataframe tbody tr th:only-of-type {\n",
       "        vertical-align: middle;\n",
       "    }\n",
       "\n",
       "    .dataframe tbody tr th {\n",
       "        vertical-align: top;\n",
       "    }\n",
       "\n",
       "    .dataframe thead th {\n",
       "        text-align: right;\n",
       "    }\n",
       "</style>\n",
       "<table border=\"1\" class=\"dataframe\">\n",
       "  <thead>\n",
       "    <tr style=\"text-align: right;\">\n",
       "      <th></th>\n",
       "      <th>Gender</th>\n",
       "      <th>Age</th>\n",
       "      <th>Occupation</th>\n",
       "      <th>Sleep Duration</th>\n",
       "      <th>Quality of Sleep</th>\n",
       "      <th>Physical Activity Level</th>\n",
       "      <th>Stress Level</th>\n",
       "      <th>BMI Category</th>\n",
       "      <th>Heart Rate</th>\n",
       "      <th>Daily Steps</th>\n",
       "      <th>Sleep Disorder</th>\n",
       "      <th>bp_upper</th>\n",
       "      <th>bp_lower</th>\n",
       "    </tr>\n",
       "  </thead>\n",
       "  <tbody>\n",
       "    <tr>\n",
       "      <th>0</th>\n",
       "      <td>Male</td>\n",
       "      <td>27</td>\n",
       "      <td>Software Engineer</td>\n",
       "      <td>6.1</td>\n",
       "      <td>6</td>\n",
       "      <td>42</td>\n",
       "      <td>6</td>\n",
       "      <td>Overweight</td>\n",
       "      <td>77</td>\n",
       "      <td>4200</td>\n",
       "      <td>None</td>\n",
       "      <td>126</td>\n",
       "      <td>83</td>\n",
       "    </tr>\n",
       "    <tr>\n",
       "      <th>1</th>\n",
       "      <td>Male</td>\n",
       "      <td>28</td>\n",
       "      <td>Doctor</td>\n",
       "      <td>6.2</td>\n",
       "      <td>6</td>\n",
       "      <td>60</td>\n",
       "      <td>8</td>\n",
       "      <td>Normal</td>\n",
       "      <td>75</td>\n",
       "      <td>10000</td>\n",
       "      <td>None</td>\n",
       "      <td>125</td>\n",
       "      <td>80</td>\n",
       "    </tr>\n",
       "    <tr>\n",
       "      <th>2</th>\n",
       "      <td>Male</td>\n",
       "      <td>28</td>\n",
       "      <td>Doctor</td>\n",
       "      <td>6.2</td>\n",
       "      <td>6</td>\n",
       "      <td>60</td>\n",
       "      <td>8</td>\n",
       "      <td>Normal</td>\n",
       "      <td>75</td>\n",
       "      <td>10000</td>\n",
       "      <td>None</td>\n",
       "      <td>125</td>\n",
       "      <td>80</td>\n",
       "    </tr>\n",
       "    <tr>\n",
       "      <th>3</th>\n",
       "      <td>Male</td>\n",
       "      <td>28</td>\n",
       "      <td>Sales Representative</td>\n",
       "      <td>5.9</td>\n",
       "      <td>4</td>\n",
       "      <td>30</td>\n",
       "      <td>8</td>\n",
       "      <td>Obese</td>\n",
       "      <td>85</td>\n",
       "      <td>3000</td>\n",
       "      <td>Sleep Apnea</td>\n",
       "      <td>140</td>\n",
       "      <td>90</td>\n",
       "    </tr>\n",
       "    <tr>\n",
       "      <th>4</th>\n",
       "      <td>Male</td>\n",
       "      <td>28</td>\n",
       "      <td>Sales Representative</td>\n",
       "      <td>5.9</td>\n",
       "      <td>4</td>\n",
       "      <td>30</td>\n",
       "      <td>8</td>\n",
       "      <td>Obese</td>\n",
       "      <td>85</td>\n",
       "      <td>3000</td>\n",
       "      <td>Sleep Apnea</td>\n",
       "      <td>140</td>\n",
       "      <td>90</td>\n",
       "    </tr>\n",
       "  </tbody>\n",
       "</table>\n",
       "</div>"
      ],
      "text/plain": [
       "  Gender  Age            Occupation  Sleep Duration  Quality of Sleep  \\\n",
       "0   Male   27     Software Engineer             6.1                 6   \n",
       "1   Male   28                Doctor             6.2                 6   \n",
       "2   Male   28                Doctor             6.2                 6   \n",
       "3   Male   28  Sales Representative             5.9                 4   \n",
       "4   Male   28  Sales Representative             5.9                 4   \n",
       "\n",
       "   Physical Activity Level  Stress Level BMI Category  Heart Rate  \\\n",
       "0                       42             6   Overweight          77   \n",
       "1                       60             8       Normal          75   \n",
       "2                       60             8       Normal          75   \n",
       "3                       30             8        Obese          85   \n",
       "4                       30             8        Obese          85   \n",
       "\n",
       "   Daily Steps Sleep Disorder bp_upper bp_lower  \n",
       "0         4200           None      126       83  \n",
       "1        10000           None      125       80  \n",
       "2        10000           None      125       80  \n",
       "3         3000    Sleep Apnea      140       90  \n",
       "4         3000    Sleep Apnea      140       90  "
      ]
     },
     "execution_count": 30,
     "metadata": {},
     "output_type": "execute_result"
    }
   ],
   "source": [
    "# renaming as lower_bp and upper_bp\n",
    "df = df.rename(columns={0: 'bp_upper', 1: 'bp_lower'})\n",
    "df.head()"
   ]
  },
  {
   "cell_type": "code",
   "execution_count": 31,
   "metadata": {},
   "outputs": [],
   "source": [
    "# convert to int\n",
    "df['bp_upper'] = df['bp_upper'].astype('int')\n",
    "df['bp_lower'] = df['bp_lower'].astype('int')"
   ]
  },
  {
   "cell_type": "code",
   "execution_count": 32,
   "metadata": {},
   "outputs": [
    {
     "name": "stdout",
     "output_type": "stream",
     "text": [
      "<class 'pandas.core.frame.DataFrame'>\n",
      "RangeIndex: 374 entries, 0 to 373\n",
      "Data columns (total 13 columns):\n",
      " #   Column                   Non-Null Count  Dtype  \n",
      "---  ------                   --------------  -----  \n",
      " 0   Gender                   374 non-null    object \n",
      " 1   Age                      374 non-null    int64  \n",
      " 2   Occupation               374 non-null    object \n",
      " 3   Sleep Duration           374 non-null    float64\n",
      " 4   Quality of Sleep         374 non-null    int64  \n",
      " 5   Physical Activity Level  374 non-null    int64  \n",
      " 6   Stress Level             374 non-null    int64  \n",
      " 7   BMI Category             374 non-null    object \n",
      " 8   Heart Rate               374 non-null    int64  \n",
      " 9   Daily Steps              374 non-null    int64  \n",
      " 10  Sleep Disorder           374 non-null    object \n",
      " 11  bp_upper                 374 non-null    int32  \n",
      " 12  bp_lower                 374 non-null    int32  \n",
      "dtypes: float64(1), int32(2), int64(6), object(4)\n",
      "memory usage: 35.2+ KB\n"
     ]
    }
   ],
   "source": [
    "df.info()"
   ]
  },
  {
   "cell_type": "code",
   "execution_count": 33,
   "metadata": {},
   "outputs": [
    {
     "data": {
      "text/html": [
       "<div>\n",
       "<style scoped>\n",
       "    .dataframe tbody tr th:only-of-type {\n",
       "        vertical-align: middle;\n",
       "    }\n",
       "\n",
       "    .dataframe tbody tr th {\n",
       "        vertical-align: top;\n",
       "    }\n",
       "\n",
       "    .dataframe thead th {\n",
       "        text-align: right;\n",
       "    }\n",
       "</style>\n",
       "<table border=\"1\" class=\"dataframe\">\n",
       "  <thead>\n",
       "    <tr style=\"text-align: right;\">\n",
       "      <th></th>\n",
       "      <th>Gender</th>\n",
       "      <th>Age</th>\n",
       "      <th>Occupation</th>\n",
       "      <th>Sleep Duration</th>\n",
       "      <th>Quality of Sleep</th>\n",
       "      <th>Physical Activity Level</th>\n",
       "      <th>Stress Level</th>\n",
       "      <th>BMI Category</th>\n",
       "      <th>Heart Rate</th>\n",
       "      <th>Daily Steps</th>\n",
       "      <th>Sleep Disorder</th>\n",
       "      <th>bp_upper</th>\n",
       "      <th>bp_lower</th>\n",
       "    </tr>\n",
       "  </thead>\n",
       "  <tbody>\n",
       "    <tr>\n",
       "      <th>0</th>\n",
       "      <td>Male</td>\n",
       "      <td>27</td>\n",
       "      <td>Software Engineer</td>\n",
       "      <td>6.1</td>\n",
       "      <td>6</td>\n",
       "      <td>42</td>\n",
       "      <td>6</td>\n",
       "      <td>Overweight</td>\n",
       "      <td>77</td>\n",
       "      <td>4200</td>\n",
       "      <td>None</td>\n",
       "      <td>126</td>\n",
       "      <td>83</td>\n",
       "    </tr>\n",
       "    <tr>\n",
       "      <th>1</th>\n",
       "      <td>Male</td>\n",
       "      <td>28</td>\n",
       "      <td>Doctor</td>\n",
       "      <td>6.2</td>\n",
       "      <td>6</td>\n",
       "      <td>60</td>\n",
       "      <td>8</td>\n",
       "      <td>Normal</td>\n",
       "      <td>75</td>\n",
       "      <td>10000</td>\n",
       "      <td>None</td>\n",
       "      <td>125</td>\n",
       "      <td>80</td>\n",
       "    </tr>\n",
       "    <tr>\n",
       "      <th>2</th>\n",
       "      <td>Male</td>\n",
       "      <td>28</td>\n",
       "      <td>Doctor</td>\n",
       "      <td>6.2</td>\n",
       "      <td>6</td>\n",
       "      <td>60</td>\n",
       "      <td>8</td>\n",
       "      <td>Normal</td>\n",
       "      <td>75</td>\n",
       "      <td>10000</td>\n",
       "      <td>None</td>\n",
       "      <td>125</td>\n",
       "      <td>80</td>\n",
       "    </tr>\n",
       "    <tr>\n",
       "      <th>3</th>\n",
       "      <td>Male</td>\n",
       "      <td>28</td>\n",
       "      <td>Sales Representative</td>\n",
       "      <td>5.9</td>\n",
       "      <td>4</td>\n",
       "      <td>30</td>\n",
       "      <td>8</td>\n",
       "      <td>Obese</td>\n",
       "      <td>85</td>\n",
       "      <td>3000</td>\n",
       "      <td>Sleep Apnea</td>\n",
       "      <td>140</td>\n",
       "      <td>90</td>\n",
       "    </tr>\n",
       "    <tr>\n",
       "      <th>4</th>\n",
       "      <td>Male</td>\n",
       "      <td>28</td>\n",
       "      <td>Sales Representative</td>\n",
       "      <td>5.9</td>\n",
       "      <td>4</td>\n",
       "      <td>30</td>\n",
       "      <td>8</td>\n",
       "      <td>Obese</td>\n",
       "      <td>85</td>\n",
       "      <td>3000</td>\n",
       "      <td>Sleep Apnea</td>\n",
       "      <td>140</td>\n",
       "      <td>90</td>\n",
       "    </tr>\n",
       "    <tr>\n",
       "      <th>...</th>\n",
       "      <td>...</td>\n",
       "      <td>...</td>\n",
       "      <td>...</td>\n",
       "      <td>...</td>\n",
       "      <td>...</td>\n",
       "      <td>...</td>\n",
       "      <td>...</td>\n",
       "      <td>...</td>\n",
       "      <td>...</td>\n",
       "      <td>...</td>\n",
       "      <td>...</td>\n",
       "      <td>...</td>\n",
       "      <td>...</td>\n",
       "    </tr>\n",
       "    <tr>\n",
       "      <th>369</th>\n",
       "      <td>Female</td>\n",
       "      <td>59</td>\n",
       "      <td>Nurse</td>\n",
       "      <td>8.1</td>\n",
       "      <td>9</td>\n",
       "      <td>75</td>\n",
       "      <td>3</td>\n",
       "      <td>Overweight</td>\n",
       "      <td>68</td>\n",
       "      <td>7000</td>\n",
       "      <td>Sleep Apnea</td>\n",
       "      <td>140</td>\n",
       "      <td>95</td>\n",
       "    </tr>\n",
       "    <tr>\n",
       "      <th>370</th>\n",
       "      <td>Female</td>\n",
       "      <td>59</td>\n",
       "      <td>Nurse</td>\n",
       "      <td>8.0</td>\n",
       "      <td>9</td>\n",
       "      <td>75</td>\n",
       "      <td>3</td>\n",
       "      <td>Overweight</td>\n",
       "      <td>68</td>\n",
       "      <td>7000</td>\n",
       "      <td>Sleep Apnea</td>\n",
       "      <td>140</td>\n",
       "      <td>95</td>\n",
       "    </tr>\n",
       "    <tr>\n",
       "      <th>371</th>\n",
       "      <td>Female</td>\n",
       "      <td>59</td>\n",
       "      <td>Nurse</td>\n",
       "      <td>8.1</td>\n",
       "      <td>9</td>\n",
       "      <td>75</td>\n",
       "      <td>3</td>\n",
       "      <td>Overweight</td>\n",
       "      <td>68</td>\n",
       "      <td>7000</td>\n",
       "      <td>Sleep Apnea</td>\n",
       "      <td>140</td>\n",
       "      <td>95</td>\n",
       "    </tr>\n",
       "    <tr>\n",
       "      <th>372</th>\n",
       "      <td>Female</td>\n",
       "      <td>59</td>\n",
       "      <td>Nurse</td>\n",
       "      <td>8.1</td>\n",
       "      <td>9</td>\n",
       "      <td>75</td>\n",
       "      <td>3</td>\n",
       "      <td>Overweight</td>\n",
       "      <td>68</td>\n",
       "      <td>7000</td>\n",
       "      <td>Sleep Apnea</td>\n",
       "      <td>140</td>\n",
       "      <td>95</td>\n",
       "    </tr>\n",
       "    <tr>\n",
       "      <th>373</th>\n",
       "      <td>Female</td>\n",
       "      <td>59</td>\n",
       "      <td>Nurse</td>\n",
       "      <td>8.1</td>\n",
       "      <td>9</td>\n",
       "      <td>75</td>\n",
       "      <td>3</td>\n",
       "      <td>Overweight</td>\n",
       "      <td>68</td>\n",
       "      <td>7000</td>\n",
       "      <td>Sleep Apnea</td>\n",
       "      <td>140</td>\n",
       "      <td>95</td>\n",
       "    </tr>\n",
       "  </tbody>\n",
       "</table>\n",
       "<p>374 rows × 13 columns</p>\n",
       "</div>"
      ],
      "text/plain": [
       "     Gender  Age            Occupation  Sleep Duration  Quality of Sleep  \\\n",
       "0      Male   27     Software Engineer             6.1                 6   \n",
       "1      Male   28                Doctor             6.2                 6   \n",
       "2      Male   28                Doctor             6.2                 6   \n",
       "3      Male   28  Sales Representative             5.9                 4   \n",
       "4      Male   28  Sales Representative             5.9                 4   \n",
       "..      ...  ...                   ...             ...               ...   \n",
       "369  Female   59                 Nurse             8.1                 9   \n",
       "370  Female   59                 Nurse             8.0                 9   \n",
       "371  Female   59                 Nurse             8.1                 9   \n",
       "372  Female   59                 Nurse             8.1                 9   \n",
       "373  Female   59                 Nurse             8.1                 9   \n",
       "\n",
       "     Physical Activity Level  Stress Level BMI Category  Heart Rate  \\\n",
       "0                         42             6   Overweight          77   \n",
       "1                         60             8       Normal          75   \n",
       "2                         60             8       Normal          75   \n",
       "3                         30             8        Obese          85   \n",
       "4                         30             8        Obese          85   \n",
       "..                       ...           ...          ...         ...   \n",
       "369                       75             3   Overweight          68   \n",
       "370                       75             3   Overweight          68   \n",
       "371                       75             3   Overweight          68   \n",
       "372                       75             3   Overweight          68   \n",
       "373                       75             3   Overweight          68   \n",
       "\n",
       "     Daily Steps Sleep Disorder  bp_upper  bp_lower  \n",
       "0           4200           None       126        83  \n",
       "1          10000           None       125        80  \n",
       "2          10000           None       125        80  \n",
       "3           3000    Sleep Apnea       140        90  \n",
       "4           3000    Sleep Apnea       140        90  \n",
       "..           ...            ...       ...       ...  \n",
       "369         7000    Sleep Apnea       140        95  \n",
       "370         7000    Sleep Apnea       140        95  \n",
       "371         7000    Sleep Apnea       140        95  \n",
       "372         7000    Sleep Apnea       140        95  \n",
       "373         7000    Sleep Apnea       140        95  \n",
       "\n",
       "[374 rows x 13 columns]"
      ]
     },
     "execution_count": 33,
     "metadata": {},
     "output_type": "execute_result"
    }
   ],
   "source": [
    "df"
   ]
  },
  {
   "cell_type": "markdown",
   "metadata": {},
   "source": [
    "# Exploratory Data Analysis"
   ]
  },
  {
   "cell_type": "markdown",
   "metadata": {},
   "source": [
    "For target variable:"
   ]
  },
  {
   "cell_type": "code",
   "execution_count": 34,
   "metadata": {},
   "outputs": [
    {
     "data": {
      "image/png": "[encoded data removed]",
      "text/plain": [
       "<Figure size 640x480 with 1 Axes>"
      ]
     },
     "metadata": {},
     "output_type": "display_data"
    }
   ],
   "source": [
    "sns.countplot(x='Sleep Disorder', data=df)\n",
    "plt.show()"
   ]
  },
  {
   "cell_type": "markdown",
   "metadata": {},
   "source": [
    "Group the two sleep disorders."
   ]
  },
  {
   "cell_type": "code",
   "execution_count": 35,
   "metadata": {},
   "outputs": [],
   "source": [
    "to_combine = ['Sleep Apnea', 'Insomnia']\n",
    "df['Sleep Disorder'] = df['Sleep Disorder'].replace(to_combine, 'Sleep Disorder')"
   ]
  },
  {
   "cell_type": "code",
   "execution_count": 36,
   "metadata": {},
   "outputs": [
    {
     "data": {
      "image/png": "[encoded data removed]",
      "text/plain": [
       "<Figure size 640x480 with 1 Axes>"
      ]
     },
     "metadata": {},
     "output_type": "display_data"
    }
   ],
   "source": [
    "sns.countplot(x='Sleep Disorder', data=df)\n",
    "plt.show()"
   ]
  },
  {
   "cell_type": "code",
   "execution_count": 37,
   "metadata": {},
   "outputs": [
    {
     "data": {
      "image/png": "[encoded data removed]",
      "text/plain": [
       "<Figure size 640x480 with 1 Axes>"
      ]
     },
     "metadata": {},
     "output_type": "display_data"
    }
   ],
   "source": [
    "sns.countplot(x='Gender', data = df, hue='Sleep Disorder')\n",
    "plt.show()"
   ]
  },
  {
   "cell_type": "code",
   "execution_count": 38,
   "metadata": {},
   "outputs": [
    {
     "data": {
      "image/png": "[encoded data removed]",
      "text/plain": [
       "<Figure size 640x480 with 1 Axes>"
      ]
     },
     "metadata": {},
     "output_type": "display_data"
    }
   ],
   "source": [
    "sns.countplot(y='Occupation', data = df)\n",
    "plt.show()"
   ]
  },
  {
   "cell_type": "code",
   "execution_count": 39,
   "metadata": {},
   "outputs": [],
   "source": [
    "to_combine = ['Software Engineer', 'Sales Representative', 'Scientist', 'Manager']\n",
    "df['Occupation'] = df['Occupation'].replace(to_combine, 'Other')"
   ]
  },
  {
   "cell_type": "code",
   "execution_count": 40,
   "metadata": {},
   "outputs": [
    {
     "data": {
      "text/plain": [
       "array(['Other', 'Doctor', 'Teacher', 'Nurse', 'Engineer', 'Accountant',\n",
       "       'Lawyer', 'Salesperson'], dtype=object)"
      ]
     },
     "execution_count": 40,
     "metadata": {},
     "output_type": "execute_result"
    }
   ],
   "source": [
    "df['Occupation'].unique()"
   ]
  },
  {
   "cell_type": "code",
   "execution_count": 41,
   "metadata": {},
   "outputs": [
    {
     "data": {
      "image/png": "[encoded data removed]",
      "text/plain": [
       "<Figure size 640x480 with 1 Axes>"
      ]
     },
     "metadata": {},
     "output_type": "display_data"
    }
   ],
   "source": [
    "sns.countplot(y='Occupation', data = df, hue = 'Sleep Disorder')\n",
    "plt.show()"
   ]
  },
  {
   "cell_type": "code",
   "execution_count": 42,
   "metadata": {},
   "outputs": [
    {
     "data": {
      "image/png": "[encoded data removed]",
      "text/plain": [
       "<Figure size 640x480 with 1 Axes>"
      ]
     },
     "metadata": {},
     "output_type": "display_data"
    }
   ],
   "source": [
    "sns.countplot(x='BMI Category', data = df, hue='Sleep Disorder')\n",
    "plt.show()"
   ]
  },
  {
   "cell_type": "markdown",
   "metadata": {},
   "source": [
    "All Obese people and most of the Overweight people have a sleeping disorder.  "
   ]
  },
  {
   "cell_type": "code",
   "execution_count": 43,
   "metadata": {},
   "outputs": [
    {
     "data": {
      "text/plain": [
       "array(['Other', 'Doctor', 'Teacher', 'Nurse', 'Engineer', 'Accountant',\n",
       "       'Lawyer', 'Salesperson'], dtype=object)"
      ]
     },
     "execution_count": 43,
     "metadata": {},
     "output_type": "execute_result"
    }
   ],
   "source": [
    "df['Occupation'].unique()"
   ]
  },
  {
   "cell_type": "markdown",
   "metadata": {},
   "source": [
    "# Label Encoding"
   ]
  },
  {
   "cell_type": "code",
   "execution_count": 45,
   "metadata": {},
   "outputs": [],
   "source": [
    "from sklearn.preprocessing import LabelEncoder\n",
    "\n",
    "enc = LabelEncoder()"
   ]
  },
  {
   "cell_type": "code",
   "execution_count": 46,
   "metadata": {},
   "outputs": [
    {
     "data": {
      "text/html": [
       "<div>\n",
       "<style scoped>\n",
       "    .dataframe tbody tr th:only-of-type {\n",
       "        vertical-align: middle;\n",
       "    }\n",
       "\n",
       "    .dataframe tbody tr th {\n",
       "        vertical-align: top;\n",
       "    }\n",
       "\n",
       "    .dataframe thead th {\n",
       "        text-align: right;\n",
       "    }\n",
       "</style>\n",
       "<table border=\"1\" class=\"dataframe\">\n",
       "  <thead>\n",
       "    <tr style=\"text-align: right;\">\n",
       "      <th></th>\n",
       "      <th>Gender</th>\n",
       "      <th>Age</th>\n",
       "      <th>Occupation</th>\n",
       "      <th>Sleep Duration</th>\n",
       "      <th>Quality of Sleep</th>\n",
       "      <th>Physical Activity Level</th>\n",
       "      <th>Stress Level</th>\n",
       "      <th>BMI Category</th>\n",
       "      <th>Heart Rate</th>\n",
       "      <th>Daily Steps</th>\n",
       "      <th>Sleep Disorder</th>\n",
       "      <th>bp_upper</th>\n",
       "      <th>bp_lower</th>\n",
       "    </tr>\n",
       "  </thead>\n",
       "  <tbody>\n",
       "    <tr>\n",
       "      <th>0</th>\n",
       "      <td>Male</td>\n",
       "      <td>27</td>\n",
       "      <td>Other</td>\n",
       "      <td>6.1</td>\n",
       "      <td>6</td>\n",
       "      <td>42</td>\n",
       "      <td>6</td>\n",
       "      <td>Overweight</td>\n",
       "      <td>77</td>\n",
       "      <td>4200</td>\n",
       "      <td>None</td>\n",
       "      <td>126</td>\n",
       "      <td>83</td>\n",
       "    </tr>\n",
       "    <tr>\n",
       "      <th>1</th>\n",
       "      <td>Male</td>\n",
       "      <td>28</td>\n",
       "      <td>Doctor</td>\n",
       "      <td>6.2</td>\n",
       "      <td>6</td>\n",
       "      <td>60</td>\n",
       "      <td>8</td>\n",
       "      <td>Normal</td>\n",
       "      <td>75</td>\n",
       "      <td>10000</td>\n",
       "      <td>None</td>\n",
       "      <td>125</td>\n",
       "      <td>80</td>\n",
       "    </tr>\n",
       "    <tr>\n",
       "      <th>2</th>\n",
       "      <td>Male</td>\n",
       "      <td>28</td>\n",
       "      <td>Doctor</td>\n",
       "      <td>6.2</td>\n",
       "      <td>6</td>\n",
       "      <td>60</td>\n",
       "      <td>8</td>\n",
       "      <td>Normal</td>\n",
       "      <td>75</td>\n",
       "      <td>10000</td>\n",
       "      <td>None</td>\n",
       "      <td>125</td>\n",
       "      <td>80</td>\n",
       "    </tr>\n",
       "    <tr>\n",
       "      <th>3</th>\n",
       "      <td>Male</td>\n",
       "      <td>28</td>\n",
       "      <td>Other</td>\n",
       "      <td>5.9</td>\n",
       "      <td>4</td>\n",
       "      <td>30</td>\n",
       "      <td>8</td>\n",
       "      <td>Obese</td>\n",
       "      <td>85</td>\n",
       "      <td>3000</td>\n",
       "      <td>Sleep Disorder</td>\n",
       "      <td>140</td>\n",
       "      <td>90</td>\n",
       "    </tr>\n",
       "    <tr>\n",
       "      <th>4</th>\n",
       "      <td>Male</td>\n",
       "      <td>28</td>\n",
       "      <td>Other</td>\n",
       "      <td>5.9</td>\n",
       "      <td>4</td>\n",
       "      <td>30</td>\n",
       "      <td>8</td>\n",
       "      <td>Obese</td>\n",
       "      <td>85</td>\n",
       "      <td>3000</td>\n",
       "      <td>Sleep Disorder</td>\n",
       "      <td>140</td>\n",
       "      <td>90</td>\n",
       "    </tr>\n",
       "  </tbody>\n",
       "</table>\n",
       "</div>"
      ],
      "text/plain": [
       "  Gender  Age Occupation  Sleep Duration  Quality of Sleep  \\\n",
       "0   Male   27      Other             6.1                 6   \n",
       "1   Male   28     Doctor             6.2                 6   \n",
       "2   Male   28     Doctor             6.2                 6   \n",
       "3   Male   28      Other             5.9                 4   \n",
       "4   Male   28      Other             5.9                 4   \n",
       "\n",
       "   Physical Activity Level  Stress Level BMI Category  Heart Rate  \\\n",
       "0                       42             6   Overweight          77   \n",
       "1                       60             8       Normal          75   \n",
       "2                       60             8       Normal          75   \n",
       "3                       30             8        Obese          85   \n",
       "4                       30             8        Obese          85   \n",
       "\n",
       "   Daily Steps  Sleep Disorder  bp_upper  bp_lower  \n",
       "0         4200            None       126        83  \n",
       "1        10000            None       125        80  \n",
       "2        10000            None       125        80  \n",
       "3         3000  Sleep Disorder       140        90  \n",
       "4         3000  Sleep Disorder       140        90  "
      ]
     },
     "execution_count": 46,
     "metadata": {},
     "output_type": "execute_result"
    }
   ],
   "source": [
    "df_transformed = df.copy()\n",
    "df_transformed.head()"
   ]
  },
  {
   "cell_type": "code",
   "execution_count": 47,
   "metadata": {},
   "outputs": [
    {
     "data": {
      "text/html": [
       "<div>\n",
       "<style scoped>\n",
       "    .dataframe tbody tr th:only-of-type {\n",
       "        vertical-align: middle;\n",
       "    }\n",
       "\n",
       "    .dataframe tbody tr th {\n",
       "        vertical-align: top;\n",
       "    }\n",
       "\n",
       "    .dataframe thead th {\n",
       "        text-align: right;\n",
       "    }\n",
       "</style>\n",
       "<table border=\"1\" class=\"dataframe\">\n",
       "  <thead>\n",
       "    <tr style=\"text-align: right;\">\n",
       "      <th></th>\n",
       "      <th>Gender</th>\n",
       "      <th>Age</th>\n",
       "      <th>Occupation</th>\n",
       "      <th>Sleep Duration</th>\n",
       "      <th>Quality of Sleep</th>\n",
       "      <th>Physical Activity Level</th>\n",
       "      <th>Stress Level</th>\n",
       "      <th>BMI Category</th>\n",
       "      <th>Heart Rate</th>\n",
       "      <th>Daily Steps</th>\n",
       "      <th>Sleep Disorder</th>\n",
       "      <th>bp_upper</th>\n",
       "      <th>bp_lower</th>\n",
       "    </tr>\n",
       "  </thead>\n",
       "  <tbody>\n",
       "    <tr>\n",
       "      <th>0</th>\n",
       "      <td>1</td>\n",
       "      <td>27</td>\n",
       "      <td>Other</td>\n",
       "      <td>6.1</td>\n",
       "      <td>6</td>\n",
       "      <td>42</td>\n",
       "      <td>6</td>\n",
       "      <td>Overweight</td>\n",
       "      <td>77</td>\n",
       "      <td>4200</td>\n",
       "      <td>None</td>\n",
       "      <td>126</td>\n",
       "      <td>83</td>\n",
       "    </tr>\n",
       "    <tr>\n",
       "      <th>1</th>\n",
       "      <td>1</td>\n",
       "      <td>28</td>\n",
       "      <td>Doctor</td>\n",
       "      <td>6.2</td>\n",
       "      <td>6</td>\n",
       "      <td>60</td>\n",
       "      <td>8</td>\n",
       "      <td>Normal</td>\n",
       "      <td>75</td>\n",
       "      <td>10000</td>\n",
       "      <td>None</td>\n",
       "      <td>125</td>\n",
       "      <td>80</td>\n",
       "    </tr>\n",
       "    <tr>\n",
       "      <th>2</th>\n",
       "      <td>1</td>\n",
       "      <td>28</td>\n",
       "      <td>Doctor</td>\n",
       "      <td>6.2</td>\n",
       "      <td>6</td>\n",
       "      <td>60</td>\n",
       "      <td>8</td>\n",
       "      <td>Normal</td>\n",
       "      <td>75</td>\n",
       "      <td>10000</td>\n",
       "      <td>None</td>\n",
       "      <td>125</td>\n",
       "      <td>80</td>\n",
       "    </tr>\n",
       "    <tr>\n",
       "      <th>3</th>\n",
       "      <td>1</td>\n",
       "      <td>28</td>\n",
       "      <td>Other</td>\n",
       "      <td>5.9</td>\n",
       "      <td>4</td>\n",
       "      <td>30</td>\n",
       "      <td>8</td>\n",
       "      <td>Obese</td>\n",
       "      <td>85</td>\n",
       "      <td>3000</td>\n",
       "      <td>Sleep Disorder</td>\n",
       "      <td>140</td>\n",
       "      <td>90</td>\n",
       "    </tr>\n",
       "    <tr>\n",
       "      <th>4</th>\n",
       "      <td>1</td>\n",
       "      <td>28</td>\n",
       "      <td>Other</td>\n",
       "      <td>5.9</td>\n",
       "      <td>4</td>\n",
       "      <td>30</td>\n",
       "      <td>8</td>\n",
       "      <td>Obese</td>\n",
       "      <td>85</td>\n",
       "      <td>3000</td>\n",
       "      <td>Sleep Disorder</td>\n",
       "      <td>140</td>\n",
       "      <td>90</td>\n",
       "    </tr>\n",
       "    <tr>\n",
       "      <th>...</th>\n",
       "      <td>...</td>\n",
       "      <td>...</td>\n",
       "      <td>...</td>\n",
       "      <td>...</td>\n",
       "      <td>...</td>\n",
       "      <td>...</td>\n",
       "      <td>...</td>\n",
       "      <td>...</td>\n",
       "      <td>...</td>\n",
       "      <td>...</td>\n",
       "      <td>...</td>\n",
       "      <td>...</td>\n",
       "      <td>...</td>\n",
       "    </tr>\n",
       "    <tr>\n",
       "      <th>369</th>\n",
       "      <td>0</td>\n",
       "      <td>59</td>\n",
       "      <td>Nurse</td>\n",
       "      <td>8.1</td>\n",
       "      <td>9</td>\n",
       "      <td>75</td>\n",
       "      <td>3</td>\n",
       "      <td>Overweight</td>\n",
       "      <td>68</td>\n",
       "      <td>7000</td>\n",
       "      <td>Sleep Disorder</td>\n",
       "      <td>140</td>\n",
       "      <td>95</td>\n",
       "    </tr>\n",
       "    <tr>\n",
       "      <th>370</th>\n",
       "      <td>0</td>\n",
       "      <td>59</td>\n",
       "      <td>Nurse</td>\n",
       "      <td>8.0</td>\n",
       "      <td>9</td>\n",
       "      <td>75</td>\n",
       "      <td>3</td>\n",
       "      <td>Overweight</td>\n",
       "      <td>68</td>\n",
       "      <td>7000</td>\n",
       "      <td>Sleep Disorder</td>\n",
       "      <td>140</td>\n",
       "      <td>95</td>\n",
       "    </tr>\n",
       "    <tr>\n",
       "      <th>371</th>\n",
       "      <td>0</td>\n",
       "      <td>59</td>\n",
       "      <td>Nurse</td>\n",
       "      <td>8.1</td>\n",
       "      <td>9</td>\n",
       "      <td>75</td>\n",
       "      <td>3</td>\n",
       "      <td>Overweight</td>\n",
       "      <td>68</td>\n",
       "      <td>7000</td>\n",
       "      <td>Sleep Disorder</td>\n",
       "      <td>140</td>\n",
       "      <td>95</td>\n",
       "    </tr>\n",
       "    <tr>\n",
       "      <th>372</th>\n",
       "      <td>0</td>\n",
       "      <td>59</td>\n",
       "      <td>Nurse</td>\n",
       "      <td>8.1</td>\n",
       "      <td>9</td>\n",
       "      <td>75</td>\n",
       "      <td>3</td>\n",
       "      <td>Overweight</td>\n",
       "      <td>68</td>\n",
       "      <td>7000</td>\n",
       "      <td>Sleep Disorder</td>\n",
       "      <td>140</td>\n",
       "      <td>95</td>\n",
       "    </tr>\n",
       "    <tr>\n",
       "      <th>373</th>\n",
       "      <td>0</td>\n",
       "      <td>59</td>\n",
       "      <td>Nurse</td>\n",
       "      <td>8.1</td>\n",
       "      <td>9</td>\n",
       "      <td>75</td>\n",
       "      <td>3</td>\n",
       "      <td>Overweight</td>\n",
       "      <td>68</td>\n",
       "      <td>7000</td>\n",
       "      <td>Sleep Disorder</td>\n",
       "      <td>140</td>\n",
       "      <td>95</td>\n",
       "    </tr>\n",
       "  </tbody>\n",
       "</table>\n",
       "<p>374 rows × 13 columns</p>\n",
       "</div>"
      ],
      "text/plain": [
       "     Gender  Age Occupation  Sleep Duration  Quality of Sleep  \\\n",
       "0         1   27      Other             6.1                 6   \n",
       "1         1   28     Doctor             6.2                 6   \n",
       "2         1   28     Doctor             6.2                 6   \n",
       "3         1   28      Other             5.9                 4   \n",
       "4         1   28      Other             5.9                 4   \n",
       "..      ...  ...        ...             ...               ...   \n",
       "369       0   59      Nurse             8.1                 9   \n",
       "370       0   59      Nurse             8.0                 9   \n",
       "371       0   59      Nurse             8.1                 9   \n",
       "372       0   59      Nurse             8.1                 9   \n",
       "373       0   59      Nurse             8.1                 9   \n",
       "\n",
       "     Physical Activity Level  Stress Level BMI Category  Heart Rate  \\\n",
       "0                         42             6   Overweight          77   \n",
       "1                         60             8       Normal          75   \n",
       "2                         60             8       Normal          75   \n",
       "3                         30             8        Obese          85   \n",
       "4                         30             8        Obese          85   \n",
       "..                       ...           ...          ...         ...   \n",
       "369                       75             3   Overweight          68   \n",
       "370                       75             3   Overweight          68   \n",
       "371                       75             3   Overweight          68   \n",
       "372                       75             3   Overweight          68   \n",
       "373                       75             3   Overweight          68   \n",
       "\n",
       "     Daily Steps  Sleep Disorder  bp_upper  bp_lower  \n",
       "0           4200            None       126        83  \n",
       "1          10000            None       125        80  \n",
       "2          10000            None       125        80  \n",
       "3           3000  Sleep Disorder       140        90  \n",
       "4           3000  Sleep Disorder       140        90  \n",
       "..           ...             ...       ...       ...  \n",
       "369         7000  Sleep Disorder       140        95  \n",
       "370         7000  Sleep Disorder       140        95  \n",
       "371         7000  Sleep Disorder       140        95  \n",
       "372         7000  Sleep Disorder       140        95  \n",
       "373         7000  Sleep Disorder       140        95  \n",
       "\n",
       "[374 rows x 13 columns]"
      ]
     },
     "execution_count": 47,
     "metadata": {},
     "output_type": "execute_result"
    }
   ],
   "source": [
    "df_transformed['Gender'] = enc.fit_transform(df['Gender'])\n",
    "df_transformed"
   ]
  },
  {
   "cell_type": "code",
   "execution_count": 48,
   "metadata": {},
   "outputs": [
    {
     "data": {
      "text/html": [
       "<div>\n",
       "<style scoped>\n",
       "    .dataframe tbody tr th:only-of-type {\n",
       "        vertical-align: middle;\n",
       "    }\n",
       "\n",
       "    .dataframe tbody tr th {\n",
       "        vertical-align: top;\n",
       "    }\n",
       "\n",
       "    .dataframe thead th {\n",
       "        text-align: right;\n",
       "    }\n",
       "</style>\n",
       "<table border=\"1\" class=\"dataframe\">\n",
       "  <thead>\n",
       "    <tr style=\"text-align: right;\">\n",
       "      <th></th>\n",
       "      <th>Gender</th>\n",
       "      <th>Age</th>\n",
       "      <th>Occupation</th>\n",
       "      <th>Sleep Duration</th>\n",
       "      <th>Quality of Sleep</th>\n",
       "      <th>Physical Activity Level</th>\n",
       "      <th>Stress Level</th>\n",
       "      <th>BMI Category</th>\n",
       "      <th>Heart Rate</th>\n",
       "      <th>Daily Steps</th>\n",
       "      <th>Sleep Disorder</th>\n",
       "      <th>bp_upper</th>\n",
       "      <th>bp_lower</th>\n",
       "    </tr>\n",
       "  </thead>\n",
       "  <tbody>\n",
       "    <tr>\n",
       "      <th>0</th>\n",
       "      <td>1</td>\n",
       "      <td>27</td>\n",
       "      <td>5</td>\n",
       "      <td>6.1</td>\n",
       "      <td>6</td>\n",
       "      <td>42</td>\n",
       "      <td>6</td>\n",
       "      <td>2</td>\n",
       "      <td>77</td>\n",
       "      <td>4200</td>\n",
       "      <td>0</td>\n",
       "      <td>126</td>\n",
       "      <td>83</td>\n",
       "    </tr>\n",
       "    <tr>\n",
       "      <th>1</th>\n",
       "      <td>1</td>\n",
       "      <td>28</td>\n",
       "      <td>1</td>\n",
       "      <td>6.2</td>\n",
       "      <td>6</td>\n",
       "      <td>60</td>\n",
       "      <td>8</td>\n",
       "      <td>0</td>\n",
       "      <td>75</td>\n",
       "      <td>10000</td>\n",
       "      <td>0</td>\n",
       "      <td>125</td>\n",
       "      <td>80</td>\n",
       "    </tr>\n",
       "    <tr>\n",
       "      <th>2</th>\n",
       "      <td>1</td>\n",
       "      <td>28</td>\n",
       "      <td>1</td>\n",
       "      <td>6.2</td>\n",
       "      <td>6</td>\n",
       "      <td>60</td>\n",
       "      <td>8</td>\n",
       "      <td>0</td>\n",
       "      <td>75</td>\n",
       "      <td>10000</td>\n",
       "      <td>0</td>\n",
       "      <td>125</td>\n",
       "      <td>80</td>\n",
       "    </tr>\n",
       "    <tr>\n",
       "      <th>3</th>\n",
       "      <td>1</td>\n",
       "      <td>28</td>\n",
       "      <td>5</td>\n",
       "      <td>5.9</td>\n",
       "      <td>4</td>\n",
       "      <td>30</td>\n",
       "      <td>8</td>\n",
       "      <td>1</td>\n",
       "      <td>85</td>\n",
       "      <td>3000</td>\n",
       "      <td>1</td>\n",
       "      <td>140</td>\n",
       "      <td>90</td>\n",
       "    </tr>\n",
       "    <tr>\n",
       "      <th>4</th>\n",
       "      <td>1</td>\n",
       "      <td>28</td>\n",
       "      <td>5</td>\n",
       "      <td>5.9</td>\n",
       "      <td>4</td>\n",
       "      <td>30</td>\n",
       "      <td>8</td>\n",
       "      <td>1</td>\n",
       "      <td>85</td>\n",
       "      <td>3000</td>\n",
       "      <td>1</td>\n",
       "      <td>140</td>\n",
       "      <td>90</td>\n",
       "    </tr>\n",
       "    <tr>\n",
       "      <th>...</th>\n",
       "      <td>...</td>\n",
       "      <td>...</td>\n",
       "      <td>...</td>\n",
       "      <td>...</td>\n",
       "      <td>...</td>\n",
       "      <td>...</td>\n",
       "      <td>...</td>\n",
       "      <td>...</td>\n",
       "      <td>...</td>\n",
       "      <td>...</td>\n",
       "      <td>...</td>\n",
       "      <td>...</td>\n",
       "      <td>...</td>\n",
       "    </tr>\n",
       "    <tr>\n",
       "      <th>369</th>\n",
       "      <td>0</td>\n",
       "      <td>59</td>\n",
       "      <td>4</td>\n",
       "      <td>8.1</td>\n",
       "      <td>9</td>\n",
       "      <td>75</td>\n",
       "      <td>3</td>\n",
       "      <td>2</td>\n",
       "      <td>68</td>\n",
       "      <td>7000</td>\n",
       "      <td>1</td>\n",
       "      <td>140</td>\n",
       "      <td>95</td>\n",
       "    </tr>\n",
       "    <tr>\n",
       "      <th>370</th>\n",
       "      <td>0</td>\n",
       "      <td>59</td>\n",
       "      <td>4</td>\n",
       "      <td>8.0</td>\n",
       "      <td>9</td>\n",
       "      <td>75</td>\n",
       "      <td>3</td>\n",
       "      <td>2</td>\n",
       "      <td>68</td>\n",
       "      <td>7000</td>\n",
       "      <td>1</td>\n",
       "      <td>140</td>\n",
       "      <td>95</td>\n",
       "    </tr>\n",
       "    <tr>\n",
       "      <th>371</th>\n",
       "      <td>0</td>\n",
       "      <td>59</td>\n",
       "      <td>4</td>\n",
       "      <td>8.1</td>\n",
       "      <td>9</td>\n",
       "      <td>75</td>\n",
       "      <td>3</td>\n",
       "      <td>2</td>\n",
       "      <td>68</td>\n",
       "      <td>7000</td>\n",
       "      <td>1</td>\n",
       "      <td>140</td>\n",
       "      <td>95</td>\n",
       "    </tr>\n",
       "    <tr>\n",
       "      <th>372</th>\n",
       "      <td>0</td>\n",
       "      <td>59</td>\n",
       "      <td>4</td>\n",
       "      <td>8.1</td>\n",
       "      <td>9</td>\n",
       "      <td>75</td>\n",
       "      <td>3</td>\n",
       "      <td>2</td>\n",
       "      <td>68</td>\n",
       "      <td>7000</td>\n",
       "      <td>1</td>\n",
       "      <td>140</td>\n",
       "      <td>95</td>\n",
       "    </tr>\n",
       "    <tr>\n",
       "      <th>373</th>\n",
       "      <td>0</td>\n",
       "      <td>59</td>\n",
       "      <td>4</td>\n",
       "      <td>8.1</td>\n",
       "      <td>9</td>\n",
       "      <td>75</td>\n",
       "      <td>3</td>\n",
       "      <td>2</td>\n",
       "      <td>68</td>\n",
       "      <td>7000</td>\n",
       "      <td>1</td>\n",
       "      <td>140</td>\n",
       "      <td>95</td>\n",
       "    </tr>\n",
       "  </tbody>\n",
       "</table>\n",
       "<p>374 rows × 13 columns</p>\n",
       "</div>"
      ],
      "text/plain": [
       "     Gender  Age  Occupation  Sleep Duration  Quality of Sleep  \\\n",
       "0         1   27           5             6.1                 6   \n",
       "1         1   28           1             6.2                 6   \n",
       "2         1   28           1             6.2                 6   \n",
       "3         1   28           5             5.9                 4   \n",
       "4         1   28           5             5.9                 4   \n",
       "..      ...  ...         ...             ...               ...   \n",
       "369       0   59           4             8.1                 9   \n",
       "370       0   59           4             8.0                 9   \n",
       "371       0   59           4             8.1                 9   \n",
       "372       0   59           4             8.1                 9   \n",
       "373       0   59           4             8.1                 9   \n",
       "\n",
       "     Physical Activity Level  Stress Level  BMI Category  Heart Rate  \\\n",
       "0                         42             6             2          77   \n",
       "1                         60             8             0          75   \n",
       "2                         60             8             0          75   \n",
       "3                         30             8             1          85   \n",
       "4                         30             8             1          85   \n",
       "..                       ...           ...           ...         ...   \n",
       "369                       75             3             2          68   \n",
       "370                       75             3             2          68   \n",
       "371                       75             3             2          68   \n",
       "372                       75             3             2          68   \n",
       "373                       75             3             2          68   \n",
       "\n",
       "     Daily Steps  Sleep Disorder  bp_upper  bp_lower  \n",
       "0           4200               0       126        83  \n",
       "1          10000               0       125        80  \n",
       "2          10000               0       125        80  \n",
       "3           3000               1       140        90  \n",
       "4           3000               1       140        90  \n",
       "..           ...             ...       ...       ...  \n",
       "369         7000               1       140        95  \n",
       "370         7000               1       140        95  \n",
       "371         7000               1       140        95  \n",
       "372         7000               1       140        95  \n",
       "373         7000               1       140        95  \n",
       "\n",
       "[374 rows x 13 columns]"
      ]
     },
     "execution_count": 48,
     "metadata": {},
     "output_type": "execute_result"
    }
   ],
   "source": [
    "df_transformed['Occupation'] = enc.fit_transform(df['Occupation'])\n",
    "df_transformed['BMI Category'] = enc.fit_transform(df['BMI Category'])\n",
    "df_transformed['Sleep Disorder'] = enc.fit_transform(df['Sleep Disorder'])\n",
    "df_transformed"
   ]
  },
  {
   "cell_type": "code",
   "execution_count": 49,
   "metadata": {},
   "outputs": [
    {
     "name": "stdout",
     "output_type": "stream",
     "text": [
      "<class 'pandas.core.frame.DataFrame'>\n",
      "RangeIndex: 374 entries, 0 to 373\n",
      "Data columns (total 13 columns):\n",
      " #   Column                   Non-Null Count  Dtype  \n",
      "---  ------                   --------------  -----  \n",
      " 0   Gender                   374 non-null    int32  \n",
      " 1   Age                      374 non-null    int64  \n",
      " 2   Occupation               374 non-null    int32  \n",
      " 3   Sleep Duration           374 non-null    float64\n",
      " 4   Quality of Sleep         374 non-null    int64  \n",
      " 5   Physical Activity Level  374 non-null    int64  \n",
      " 6   Stress Level             374 non-null    int64  \n",
      " 7   BMI Category             374 non-null    int32  \n",
      " 8   Heart Rate               374 non-null    int64  \n",
      " 9   Daily Steps              374 non-null    int64  \n",
      " 10  Sleep Disorder           374 non-null    int32  \n",
      " 11  bp_upper                 374 non-null    int32  \n",
      " 12  bp_lower                 374 non-null    int32  \n",
      "dtypes: float64(1), int32(6), int64(6)\n",
      "memory usage: 29.3 KB\n"
     ]
    }
   ],
   "source": [
    "df_transformed.info()"
   ]
  },
  {
   "cell_type": "markdown",
   "metadata": {},
   "source": [
    "# Model"
   ]
  },
  {
   "cell_type": "code",
   "execution_count": 50,
   "metadata": {},
   "outputs": [
    {
     "data": {
      "text/plain": [
       "Index(['Gender', 'Age', 'Occupation', 'Sleep Duration', 'Quality of Sleep',\n",
       "       'Physical Activity Level', 'Stress Level', 'BMI Category', 'Heart Rate',\n",
       "       'Daily Steps', 'Sleep Disorder', 'bp_upper', 'bp_lower'],\n",
       "      dtype='object')"
      ]
     },
     "execution_count": 50,
     "metadata": {},
     "output_type": "execute_result"
    }
   ],
   "source": [
    "df_transformed.columns"
   ]
  },
  {
   "cell_type": "code",
   "execution_count": 51,
   "metadata": {},
   "outputs": [],
   "source": [
    "inputs = df_transformed[['Gender', 'Age', 'Occupation', 'Sleep Duration', 'Quality of Sleep',\n",
    "       'Physical Activity Level', 'Stress Level', 'BMI Category', 'Heart Rate',\n",
    "       'Daily Steps', 'bp_upper', 'bp_lower']]"
   ]
  },
  {
   "cell_type": "code",
   "execution_count": 52,
   "metadata": {},
   "outputs": [],
   "source": [
    "target = df_transformed['Sleep Disorder']"
   ]
  },
  {
   "cell_type": "markdown",
   "metadata": {},
   "source": [
    "# Train and Test split"
   ]
  },
  {
   "cell_type": "code",
   "execution_count": 53,
   "metadata": {},
   "outputs": [],
   "source": [
    "from sklearn.model_selection import train_test_split\n",
    "\n",
    "x_train, x_test, y_train, y_test = train_test_split(inputs, target, test_size = 0.3, random_state=10)"
   ]
  },
  {
   "cell_type": "code",
   "execution_count": 54,
   "metadata": {},
   "outputs": [],
   "source": [
    "from sklearn.metrics import accuracy_score, confusion_matrix, classification_report"
   ]
  },
  {
   "cell_type": "markdown",
   "metadata": {},
   "source": [
    "# Logistic Regression"
   ]
  },
  {
   "cell_type": "code",
   "execution_count": null,
   "metadata": {},
   "outputs": [],
   "source": [
    "from sklearn.linear_model import LogisticRegression\n",
    "\n",
    "reg = LogisticRegression()\n",
    "reg.fit(x_train, y_train)"
   ]
  },
  {
   "cell_type": "code",
   "execution_count": null,
   "metadata": {},
   "outputs": [],
   "source": [
    "log_pred = reg.predict(x_test)"
   ]
  },
  {
   "cell_type": "code",
   "execution_count": null,
   "metadata": {},
   "outputs": [],
   "source": [
    "from sklearn.metrics import accuracy_score, precision_score, recall_score, f1_score"
   ]
  },
  {
   "cell_type": "code",
   "execution_count": null,
   "metadata": {},
   "outputs": [],
   "source": [
    "c = confusion_matrix(y_test, log_pred)\n",
    "c"
   ]
  },
  {
   "cell_type": "code",
   "execution_count": null,
   "metadata": {},
   "outputs": [],
   "source": [
    "print('accuracy:',accuracy_score(y_test, log_pred))\n",
    "print('precision:',precision_score(y_test,log_pred))\n",
    "print('recall:',recall_score(y_test, log_pred))\n",
    "print('F1-score:', f1_score(y_test, log_pred))"
   ]
  },
  {
   "cell_type": "markdown",
   "metadata": {},
   "source": [
    "# SVM"
   ]
  },
  {
   "cell_type": "code",
   "execution_count": null,
   "metadata": {},
   "outputs": [],
   "source": [
    "from sklearn.svm import SVC"
   ]
  },
  {
   "cell_type": "code",
   "execution_count": null,
   "metadata": {},
   "outputs": [],
   "source": [
    "svm = SVC(kernel=\"linear\", gamma='scale', C=1.0) # model defining\n",
    "svm.fit(x_train,y_train) # fit to our train data"
   ]
  },
  {
   "cell_type": "code",
   "execution_count": null,
   "metadata": {},
   "outputs": [],
   "source": [
    "svm_pred = svm.predict(x_test)"
   ]
  },
  {
   "cell_type": "code",
   "execution_count": null,
   "metadata": {},
   "outputs": [],
   "source": [
    "c_svm = confusion_matrix(y_test, svm_pred)\n",
    "c_svm"
   ]
  },
  {
   "cell_type": "code",
   "execution_count": null,
   "metadata": {},
   "outputs": [],
   "source": [
    "print('accuracy:',accuracy_score(y_test, svm_pred))\n",
    "print('precision:',precision_score(y_test,svm_pred))\n",
    "print('recall:',recall_score(y_test, svm_pred))\n",
    "print('F1-score:', f1_score(y_test, svm_pred))"
   ]
  },
  {
   "cell_type": "markdown",
   "metadata": {},
   "source": [
    "# Naive Bayes Classifier"
   ]
  },
  {
   "cell_type": "code",
   "execution_count": null,
   "metadata": {},
   "outputs": [],
   "source": [
    "from sklearn.naive_bayes import GaussianNB"
   ]
  },
  {
   "cell_type": "code",
   "execution_count": null,
   "metadata": {},
   "outputs": [],
   "source": [
    "gnb = GaussianNB()\n",
    "gnb.fit(x_train, y_train)"
   ]
  },
  {
   "cell_type": "code",
   "execution_count": null,
   "metadata": {},
   "outputs": [],
   "source": [
    "gnb_pred = gnb.predict(x_test)"
   ]
  },
  {
   "cell_type": "code",
   "execution_count": null,
   "metadata": {},
   "outputs": [],
   "source": [
    "confusion_matrix(y_test, gnb_pred)"
   ]
  },
  {
   "cell_type": "code",
   "execution_count": null,
   "metadata": {},
   "outputs": [],
   "source": [
    "print('accuracy:',accuracy_score(y_test, gnb_pred))\n",
    "print('precision:',precision_score(y_test,gnb_pred))\n",
    "print('recall:',recall_score(y_test, gnb_pred))\n",
    "print('F1-score:', f1_score(y_test, gnb_pred))"
   ]
  },
  {
   "cell_type": "code",
   "execution_count": null,
   "metadata": {},
   "outputs": [],
   "source": [
    "print(classification_report(y_test, gnb_pred))"
   ]
  },
  {
   "cell_type": "markdown",
   "metadata": {},
   "source": [
    "# Random Forest"
   ]
  },
  {
   "cell_type": "code",
   "execution_count": null,
   "metadata": {},
   "outputs": [],
   "source": [
    "from sklearn.ensemble import RandomForestClassifier"
   ]
  },
  {
   "cell_type": "code",
   "execution_count": null,
   "metadata": {},
   "outputs": [],
   "source": [
    "rf = RandomForestClassifier(n_estimators = 100)\n",
    "rf.fit(x_train,y_train) "
   ]
  },
  {
   "cell_type": "code",
   "execution_count": null,
   "metadata": {},
   "outputs": [],
   "source": [
    "rf_pred = rf.predict(x_test)"
   ]
  },
  {
   "cell_type": "code",
   "execution_count": null,
   "metadata": {},
   "outputs": [],
   "source": [
    "confusion_matrix(y_test, rf_pred)"
   ]
  },
  {
   "cell_type": "code",
   "execution_count": null,
   "metadata": {},
   "outputs": [],
   "source": [
    "print('accuracy:',accuracy_score(y_test, rf_pred))\n",
    "print('precision:',precision_score(y_test,rf_pred))\n",
    "print('recall:',recall_score(y_test, rf_pred))\n",
    "print('F1-score:', f1_score(y_test, rf_pred))"
   ]
  },
  {
   "cell_type": "markdown",
   "metadata": {},
   "source": [
    "# AdaBoost "
   ]
  },
  {
   "cell_type": "code",
   "execution_count": 55,
   "metadata": {},
   "outputs": [],
   "source": [
    "from sklearn.ensemble import AdaBoostClassifier"
   ]
  },
  {
   "cell_type": "code",
   "execution_count": 56,
   "metadata": {},
   "outputs": [
    {
     "data": {
      "text/html": [
       "<style>#sk-container-id-1 {color: black;}#sk-container-id-1 pre{padding: 0;}#sk-container-id-1 div.sk-toggleable {background-color: white;}#sk-container-id-1 label.sk-toggleable__label {cursor: pointer;display: block;width: 100%;margin-bottom: 0;padding: 0.3em;box-sizing: border-box;text-align: center;}#sk-container-id-1 label.sk-toggleable__label-arrow:before {content: \"▸\";float: left;margin-right: 0.25em;color: #696969;}#sk-container-id-1 label.sk-toggleable__label-arrow:hover:before {color: black;}#sk-container-id-1 div.sk-estimator:hover label.sk-toggleable__label-arrow:before {color: black;}#sk-container-id-1 div.sk-toggleable__content {max-height: 0;max-width: 0;overflow: hidden;text-align: left;background-color: #f0f8ff;}#sk-container-id-1 div.sk-toggleable__content pre {margin: 0.2em;color: black;border-radius: 0.25em;background-color: #f0f8ff;}#sk-container-id-1 input.sk-toggleable__control:checked~div.sk-toggleable__content {max-height: 200px;max-width: 100%;overflow: auto;}#sk-container-id-1 input.sk-toggleable__control:checked~label.sk-toggleable__label-arrow:before {content: \"▾\";}#sk-container-id-1 div.sk-estimator input.sk-toggleable__control:checked~label.sk-toggleable__label {background-color: #d4ebff;}#sk-container-id-1 div.sk-label input.sk-toggleable__control:checked~label.sk-toggleable__label {background-color: #d4ebff;}#sk-container-id-1 input.sk-hidden--visually {border: 0;clip: rect(1px 1px 1px 1px);clip: rect(1px, 1px, 1px, 1px);height: 1px;margin: -1px;overflow: hidden;padding: 0;position: absolute;width: 1px;}#sk-container-id-1 div.sk-estimator {font-family: monospace;background-color: #f0f8ff;border: 1px dotted black;border-radius: 0.25em;box-sizing: border-box;margin-bottom: 0.5em;}#sk-container-id-1 div.sk-estimator:hover {background-color: #d4ebff;}#sk-container-id-1 div.sk-parallel-item::after {content: \"\";width: 100%;border-bottom: 1px solid gray;flex-grow: 1;}#sk-container-id-1 div.sk-label:hover label.sk-toggleable__label {background-color: #d4ebff;}#sk-container-id-1 div.sk-serial::before {content: \"\";position: absolute;border-left: 1px solid gray;box-sizing: border-box;top: 0;bottom: 0;left: 50%;z-index: 0;}#sk-container-id-1 div.sk-serial {display: flex;flex-direction: column;align-items: center;background-color: white;padding-right: 0.2em;padding-left: 0.2em;position: relative;}#sk-container-id-1 div.sk-item {position: relative;z-index: 1;}#sk-container-id-1 div.sk-parallel {display: flex;align-items: stretch;justify-content: center;background-color: white;position: relative;}#sk-container-id-1 div.sk-item::before, #sk-container-id-1 div.sk-parallel-item::before {content: \"\";position: absolute;border-left: 1px solid gray;box-sizing: border-box;top: 0;bottom: 0;left: 50%;z-index: -1;}#sk-container-id-1 div.sk-parallel-item {display: flex;flex-direction: column;z-index: 1;position: relative;background-color: white;}#sk-container-id-1 div.sk-parallel-item:first-child::after {align-self: flex-end;width: 50%;}#sk-container-id-1 div.sk-parallel-item:last-child::after {align-self: flex-start;width: 50%;}#sk-container-id-1 div.sk-parallel-item:only-child::after {width: 0;}#sk-container-id-1 div.sk-dashed-wrapped {border: 1px dashed gray;margin: 0 0.4em 0.5em 0.4em;box-sizing: border-box;padding-bottom: 0.4em;background-color: white;}#sk-container-id-1 div.sk-label label {font-family: monospace;font-weight: bold;display: inline-block;line-height: 1.2em;}#sk-container-id-1 div.sk-label-container {text-align: center;}#sk-container-id-1 div.sk-container {/* jupyter's `normalize.less` sets `[hidden] { display: none; }` but bootstrap.min.css set `[hidden] { display: none !important; }` so we also need the `!important` here to be able to override the default hidden behavior on the sphinx rendered scikit-learn.org. See: https://github.com/scikit-learn/scikit-learn/issues/21755 */display: inline-block !important;position: relative;}#sk-container-id-1 div.sk-text-repr-fallback {display: none;}</style><div id=\"sk-container-id-1\" class=\"sk-top-container\"><div class=\"sk-text-repr-fallback\"><pre>AdaBoostClassifier()</pre><b>In a Jupyter environment, please rerun this cell to show the HTML representation or trust the notebook. <br />On GitHub, the HTML representation is unable to render, please try loading this page with nbviewer.org.</b></div><div class=\"sk-container\" hidden><div class=\"sk-item\"><div class=\"sk-estimator sk-toggleable\"><input class=\"sk-toggleable__control sk-hidden--visually\" id=\"sk-estimator-id-1\" type=\"checkbox\" checked><label for=\"sk-estimator-id-1\" class=\"sk-toggleable__label sk-toggleable__label-arrow\">AdaBoostClassifier</label><div class=\"sk-toggleable__content\"><pre>AdaBoostClassifier()</pre></div></div></div></div></div>"
      ],
      "text/plain": [
       "AdaBoostClassifier()"
      ]
     },
     "execution_count": 56,
     "metadata": {},
     "output_type": "execute_result"
    }
   ],
   "source": [
    "adb = AdaBoostClassifier()\n",
    "adb.fit(x_train,y_train)"
   ]
  },
  {
   "cell_type": "code",
   "execution_count": 57,
   "metadata": {},
   "outputs": [],
   "source": [
    "adb_pred = adb.predict(x_test)"
   ]
  },
  {
   "cell_type": "code",
   "execution_count": 58,
   "metadata": {},
   "outputs": [
    {
     "data": {
      "text/plain": [
       "array([[66,  5],\n",
       "       [ 3, 39]], dtype=int64)"
      ]
     },
     "execution_count": 58,
     "metadata": {},
     "output_type": "execute_result"
    }
   ],
   "source": [
    "confusion_matrix(y_test, adb_pred)"
   ]
  },
  {
   "cell_type": "code",
   "execution_count": 60,
   "metadata": {},
   "outputs": [],
   "source": [
    "from sklearn.metrics import accuracy_score, precision_score, recall_score, f1_score"
   ]
  },
  {
   "cell_type": "code",
   "execution_count": 61,
   "metadata": {},
   "outputs": [
    {
     "name": "stdout",
     "output_type": "stream",
     "text": [
      "accuracy: 0.9292035398230089\n",
      "precision: 0.8863636363636364\n",
      "recall: 0.9285714285714286\n",
      "F1-score: 0.9069767441860465\n"
     ]
    }
   ],
   "source": [
    "print('accuracy:',accuracy_score(y_test, adb_pred))\n",
    "print('precision:',precision_score(y_test,adb_pred))\n",
    "print('recall:',recall_score(y_test, adb_pred))\n",
    "print('F1-score:', f1_score(y_test, adb_pred))"
   ]
  },
  {
   "cell_type": "markdown",
   "metadata": {},
   "source": [
    "# Testing with custom input"
   ]
  },
  {
   "cell_type": "code",
   "execution_count": 62,
   "metadata": {},
   "outputs": [
    {
     "name": "stdout",
     "output_type": "stream",
     "text": [
      "[1]\n",
      "the person is at a risk of sleep disorder\n"
     ]
    },
    {
     "name": "stderr",
     "output_type": "stream",
     "text": [
      "c:\\Users\\Vatsu.Daita\\.conda\\envs\\py3115\\Lib\\site-packages\\sklearn\\base.py:464: UserWarning: X does not have valid feature names, but AdaBoostClassifier was fitted with feature names\n",
      "  warnings.warn(\n"
     ]
    }
   ],
   "source": [
    "input_data = (0, 35, 2, 7.0, 8, 65, 5, 2, 73, 3000, 140, 90)\n",
    "\n",
    "input_data_as_np_array = np.asarray(input_data) # converting the input data into a numpy array\n",
    "\n",
    "input_data_reshaped = input_data_as_np_array.reshape(1,-1) # reshape array as we are predicting only for 1 instance\n",
    "\n",
    "prediction = adb.predict(input_data_reshaped)\n",
    "print(prediction)\n",
    "\n",
    "if (prediction[0] == 0):\n",
    "    print('the person is not at a risk of sleep disorder')\n",
    "else:\n",
    "    print('the person is at a risk of sleep disorder')"
   ]
  },
  {
   "cell_type": "markdown",
   "metadata": {},
   "source": [
    "# Saving the trained AdaBoost Model"
   ]
  },
  {
   "cell_type": "code",
   "execution_count": 63,
   "metadata": {},
   "outputs": [],
   "source": [
    "import pickle"
   ]
  },
  {
   "cell_type": "code",
   "execution_count": 64,
   "metadata": {},
   "outputs": [],
   "source": [
    "filename = 'trained_adb_model.sav' # .sav is short for saved file. It is a data storage format used in computer applications.\n",
    "\n",
    "pickle.dump(adb, open(filename, 'wb')) # saving our SVM model (i.e svm) in filename by writing in binary"
   ]
  },
  {
   "cell_type": "markdown",
   "metadata": {},
   "source": [
    "# Loading the model and testing"
   ]
  },
  {
   "cell_type": "code",
   "execution_count": 65,
   "metadata": {},
   "outputs": [],
   "source": [
    "loaded_model = pickle.load(open('trained_adb_model.sav', 'rb')) # 'rb' means reading the binary format\n"
   ]
  },
  {
   "cell_type": "code",
   "execution_count": 66,
   "metadata": {},
   "outputs": [
    {
     "name": "stdout",
     "output_type": "stream",
     "text": [
      "[1]\n",
      "the person is at a risk of sleep disorder\n"
     ]
    },
    {
     "name": "stderr",
     "output_type": "stream",
     "text": [
      "c:\\Users\\Vatsu.Daita\\.conda\\envs\\py3115\\Lib\\site-packages\\sklearn\\base.py:464: UserWarning: X does not have valid feature names, but AdaBoostClassifier was fitted with feature names\n",
      "  warnings.warn(\n"
     ]
    }
   ],
   "source": [
    "# testing our loaded model\n",
    "input_data = (0, 35, 2, 7.0, 8, 65, 5, 2, 73, 3000, 140, 90)\n",
    "\n",
    "input_data_as_np_array = np.asarray(input_data) \n",
    "\n",
    "input_data_reshaped = input_data_as_np_array.reshape(1,-1) \n",
    "\n",
    "prediction = loaded_model.predict(input_data_reshaped)\n",
    "print(prediction)\n",
    "\n",
    "if (prediction[0] == 0):\n",
    "    print('the person is not at a risk of sleep disorder')\n",
    "else:\n",
    "    print('the person is at a risk of sleep disorder')"
   ]
  }
 ],
 "metadata": {
  "kernelspec": {
   "display_name": "myenv",
   "language": "python",
   "name": "python3"
  },
  "language_info": {
   "codemirror_mode": {
    "name": "ipython",
    "version": 3
   },
   "file_extension": ".py",
   "mimetype": "text/x-python",
   "name": "python",
   "nbconvert_exporter": "python",
   "pygments_lexer": "ipython3",
   "version": "3.11.5"
  }
 },
 "nbformat": 4,
 "nbformat_minor": 2
}
